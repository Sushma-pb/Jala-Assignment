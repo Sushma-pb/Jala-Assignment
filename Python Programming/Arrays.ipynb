{
 "cells": [
  {
   "cell_type": "code",
   "execution_count": 2,
   "metadata": {},
   "outputs": [],
   "source": [
    "# Write a function to add integer values of an array.\n",
    "from audioop import avg\n",
    "from operator import index\n",
    "from turtle import position"
   ]
  },
  {
   "cell_type": "code",
   "execution_count": 3,
   "metadata": {},
   "outputs": [
    {
     "name": "stdout",
     "output_type": "stream",
     "text": [
      "Sum of all integer values in array:  100\n"
     ]
    }
   ],
   "source": [
    "#Initialize array \n",
    "arr = [10,20,30,40]\n",
    "sum = 0\n",
    "#Loop through the array to calculate sum of elements \n",
    "for i in range(0,len(arr)):\n",
    "    sum = sum + arr[i]\n",
    "print(\"Sum of all integer values in array: \",sum) "
   ]
  },
  {
   "cell_type": "code",
   "execution_count": 4,
   "metadata": {},
   "outputs": [
    {
     "name": "stdout",
     "output_type": "stream",
     "text": [
      "The average is 32.0\n"
     ]
    }
   ],
   "source": [
    "# Write a function to calculate the average value of an array of integers.\n",
    "\n",
    "def cal_average(num):\n",
    "    sum_num = 0\n",
    "    #Loop through the array to average value of elements \n",
    "    for i in num:\n",
    "        sum_num = sum_num + i          \n",
    "\n",
    "    avg = sum_num / len(num)\n",
    "    return avg\n",
    "\n",
    "print(\"The average is\", cal_average([10,21,32,43,54]))"
   ]
  },
  {
   "cell_type": "code",
   "execution_count": 5,
   "metadata": {},
   "outputs": [
    {
     "name": "stdout",
     "output_type": "stream",
     "text": [
      "Index of 3:  1\n",
      "Index of 9:  11\n",
      "Index of 8:  9\n"
     ]
    }
   ],
   "source": [
    "# Write a program to find the index of an array element.\n",
    "\n",
    "#Initialize array\n",
    "arr = [1,3,5,3,1,2,6,5,3,8,6,9]\n",
    "\n",
    "#printing element at specific index in array\n",
    "index = arr.index(3)\n",
    "print(\"Index of 3: \",index)\n",
    "\n",
    "index = arr.index(9)\n",
    "print(\"Index of 9: \",index)\n",
    "\n",
    "index = arr.index(8)\n",
    "print(\"Index of 8: \",index)"
   ]
  },
  {
   "cell_type": "code",
   "execution_count": 6,
   "metadata": {},
   "outputs": [
    {
     "name": "stdout",
     "output_type": "stream",
     "text": [
      "Element exist\n"
     ]
    }
   ],
   "source": [
    "# Write a function to test if array contains a specific value.\n",
    "\n",
    "#Initialize array\n",
    "arr = [4,5,45,40,50]\n",
    "#Loop through array to test if array contains a specific value\n",
    "for num in arr:\n",
    "    if num == 5:\n",
    "        print(\"Element exist\")"
   ]
  },
  {
   "cell_type": "code",
   "execution_count": 7,
   "metadata": {},
   "outputs": [
    {
     "name": "stdout",
     "output_type": "stream",
     "text": [
      "[44, 55, 15, 19, 5, 4]\n"
     ]
    }
   ],
   "source": [
    "# Write a function to remove a specific element from an array.\n",
    "\n",
    "#Initialize array\n",
    "arr = [44,55,0,15,19,5,4]\n",
    "\n",
    "#removing a specific element from an array\n",
    "arr.remove(0)\n",
    "print(arr)\n"
   ]
  },
  {
   "cell_type": "code",
   "execution_count": 8,
   "metadata": {},
   "outputs": [
    {
     "name": "stdout",
     "output_type": "stream",
     "text": [
      "['S', 'U', 'S', 'H', 'M', 'A']\n"
     ]
    }
   ],
   "source": [
    "# Write a function to copy an array to another array\n",
    "\n",
    "#Initialize array\n",
    "arr = ['S','U','S','H','M','A']\n",
    "arr1 = [] #creating empy array\n",
    "arr1 = arr.copy() #copying/duplicating arr in arr1\n",
    "print(arr1)"
   ]
  },
  {
   "cell_type": "code",
   "execution_count": 9,
   "metadata": {},
   "outputs": [
    {
     "name": "stdout",
     "output_type": "stream",
     "text": [
      "[101, 202, 303, 404, 505, 606, 707, 808, 909]\n"
     ]
    }
   ],
   "source": [
    "# Write a function to insert an element at a specific position in the array.\n",
    "\n",
    "#Initialize array\n",
    "arr = [101,303,404,505,606,707,808,909]\n",
    "arr.insert(1,202) #insert 202 at index 1 in arr\n",
    "print(arr)"
   ]
  },
  {
   "cell_type": "code",
   "execution_count": 10,
   "metadata": {},
   "outputs": [
    {
     "name": "stdout",
     "output_type": "stream",
     "text": [
      "The minimum is at position: 1\n",
      "The maximum is at position:: 7\n"
     ]
    }
   ],
   "source": [
    "# Write a function to find the minimum and maximum value of an array.\n",
    "\n",
    "#Initialize array\n",
    "arr = [100,3,3000,20,500,9999,10000,10003]\n",
    "\n",
    "#minimum value of array\n",
    "minposition = arr.index(min(arr))\n",
    "print (\"The minimum is at position:\", minposition)\n",
    "\n",
    "#maximum value of array\n",
    "maxposition = arr.index(max(arr))\n",
    "print (\"The maximum is at position::\", maxposition)"
   ]
  },
  {
   "cell_type": "code",
   "execution_count": 11,
   "metadata": {},
   "outputs": [
    {
     "name": "stdout",
     "output_type": "stream",
     "text": [
      "[8, 7, 6, 5, 4, 3, 2]\n"
     ]
    }
   ],
   "source": [
    "# Write a function to reverse an array of integer values.\n",
    "\n",
    "#Initialize array\n",
    "arr = [2,3,4,5,6,7,8]\n",
    "arr.reverse() #to reverse an array of integer values\n",
    "print(arr)"
   ]
  },
  {
   "cell_type": "code",
   "execution_count": 12,
   "metadata": {},
   "outputs": [
    {
     "name": "stdout",
     "output_type": "stream",
     "text": [
      "Duplicate element in given array: 11\n"
     ]
    }
   ],
   "source": [
    "# Write a function to find the duplicate values of an array.\n",
    " \n",
    "#Initialize array    \n",
    "arr = [21,11,31,13,11]\n",
    "#Using loop to check duplicate values in array\n",
    "for i in range(0,len(arr)):\n",
    "    for k in range(i + 1,len(arr)):\n",
    "        if arr[i] == arr[k]:\n",
    "            print(\"Duplicate element in given array:\",arr[k])"
   ]
  },
  {
   "cell_type": "code",
   "execution_count": 13,
   "metadata": {},
   "outputs": [
    {
     "name": "stdout",
     "output_type": "stream",
     "text": [
      "Common values in given arrays: {'A', 'H', 'S'}\n"
     ]
    }
   ],
   "source": [
    "# Write a program to find the common values between two arrays.\n",
    "\n",
    "#Initialize array\n",
    "arr = ['S','U','S','H','M','A']\n",
    "arr1 = ['S','H','A']\n",
    "print(\"Common values in given arrays:\",set(arr).intersection(arr1))\n"
   ]
  },
  {
   "cell_type": "code",
   "execution_count": 14,
   "metadata": {},
   "outputs": [
    {
     "name": "stdout",
     "output_type": "stream",
     "text": [
      "Second largest number: 808\n"
     ]
    }
   ],
   "source": [
    "# Write a method to find the second largest number in an array.\n",
    "\n",
    "#Initialize array\n",
    "arr = [101,404,202,909,606,505,808,303,707]\n",
    "arr.sort() #Sorting in ascending order. \n",
    "print(\"Second largest number:\",arr[-2]) #displaying the second last element."
   ]
  },
  {
   "cell_type": "code",
   "execution_count": 15,
   "metadata": {},
   "outputs": [
    {
     "name": "stdout",
     "output_type": "stream",
     "text": [
      "Even Numbers in given array: 4\n",
      "Odd Numbers in given array: 5\n"
     ]
    }
   ],
   "source": [
    "# Write a method to find number of even number and odd numbers in an array.\n",
    "\n",
    "#Initialize array\n",
    "arr = [1,2,3,4,5,6,7,8,9]\n",
    "evennumbers = 0\n",
    "oddnumbers = 0\n",
    "#using loop to find even and odd numbers in array\n",
    "for i in arr:\n",
    "    if i % 2 == 0:\n",
    "        evennumbers += 1\n",
    "    else:\n",
    "        oddnumbers += 1 \n",
    "print(\"Even Numbers in given array:\",evennumbers)\n",
    "print(\"Odd Numbers in given array:\",oddnumbers)"
   ]
  },
  {
   "cell_type": "code",
   "execution_count": 16,
   "metadata": {},
   "outputs": [
    {
     "name": "stdout",
     "output_type": "stream",
     "text": [
      "Diffrence of largest and smallest value: 8\n"
     ]
    }
   ],
   "source": [
    "# Write a function to get the difference of largest and smallest value.\n",
    "\n",
    "#Initialize array\n",
    "arr = [10,6,11,13,14]\n",
    "arr.sort() #Sorting in ascending order\n",
    "print(\"Diffrence of largest and smallest value:\",arr[4]-arr[0])\n"
   ]
  },
  {
   "cell_type": "code",
   "execution_count": 17,
   "metadata": {},
   "outputs": [
    {
     "name": "stdout",
     "output_type": "stream",
     "text": [
      "[11, 22, 33, 44, 55]\n"
     ]
    }
   ],
   "source": [
    "# Write a method to remove duplicate elements from an array.\n",
    "\n",
    "#Initialize array\n",
    "arr = [11,22,33,11,44,55]\n",
    "finalarr = [] #empty array\n",
    "#Using loop to remove duplicated elements\n",
    "for i in arr:\n",
    "    if i not in finalarr:\n",
    "        finalarr.append(i)\n",
    "print(finalarr)"
   ]
  },
  {
   "cell_type": "code",
   "execution_count": 18,
   "metadata": {},
   "outputs": [
    {
     "name": "stdout",
     "output_type": "stream",
     "text": [
      "Exist in array\n",
      "Exist in array\n"
     ]
    }
   ],
   "source": [
    "\n",
    "# Write a method to verify if the array contains two specified elements(12,23).\n",
    "\n",
    "#Initialize array\n",
    "arr = [1,12,19,23,33,54]\n",
    "#using loop to find if array contains specific elements\n",
    "for i in arr:\n",
    "    if i == 12:\n",
    "        print(\"Exist in array\")\n",
    "    if i == 23:\n",
    "        print(\"Exist in array\")\n"
   ]
  }
 ],
 "metadata": {
  "kernelspec": {
   "display_name": "Python 3.6.1 64-bit",
   "language": "python",
   "name": "python3"
  },
  "language_info": {
   "codemirror_mode": {
    "name": "ipython",
    "version": 3
   },
   "file_extension": ".py",
   "mimetype": "text/x-python",
   "name": "python",
   "nbconvert_exporter": "python",
   "pygments_lexer": "ipython3",
   "version": "3.6.1"
  },
  "orig_nbformat": 4,
  "vscode": {
   "interpreter": {
    "hash": "2331ce43c7f5a23667004e463cc3f21c36cce818200954c349b5bdb05de3eee1"
   }
  }
 },
 "nbformat": 4,
 "nbformat_minor": 2
}
