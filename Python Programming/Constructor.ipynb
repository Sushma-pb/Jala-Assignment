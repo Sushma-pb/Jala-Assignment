{
 "cells": [
  {
   "cell_type": "code",
   "execution_count": 1,
   "metadata": {},
   "outputs": [
    {
     "name": "stdout",
     "output_type": "stream",
     "text": [
      "Sushma\n",
      "PB\n",
      "Name: Sushma\n",
      "Roll: 8\n",
      "Branch: CSE\n"
     ]
    }
   ],
   "source": [
    "from unicodedata import name\n",
    "\n",
    "\n",
    "class A:\n",
    "    # default constructor\n",
    "    def __init__(self):\n",
    "     self.name = \"Sushma\"\n",
    "     # a method for printing data members\n",
    "    def print_A(self):\n",
    "        print(self.name)\n",
    "# creating object of the class\n",
    "obj = A()\n",
    "# calling the instance method using the object obj\n",
    "obj.print_A()\n",
    "\n",
    "class B(A):\n",
    "    def __init__(self):\n",
    "     self.name = \"PB\"\n",
    "    def print_B(self):\n",
    "        print(self.name)\n",
    "obj1 = B()\n",
    "obj1.print_B()\n",
    "\n",
    "class C:\n",
    "    # public data member\n",
    "    name = None\n",
    "\n",
    "     # protected data members\n",
    "    _roll = None \n",
    "\n",
    "     # private data member\n",
    "    __branch = None\n",
    "\n",
    "    # constructor\n",
    "    def __init__(self,name,roll,branch):\n",
    "        self.name = name  \n",
    "        self._roll = roll\n",
    "        self.__branch = branch  \n",
    "    def dsiplayName(self):\n",
    "        print(\"Name:\",self.name)\n",
    "        # protected member function\n",
    "    def _displayRoll(self):\n",
    "         # accessing protected data members\n",
    "        print(\"Roll:\",self._roll)\n",
    "\n",
    "         # private member function \n",
    "    def __displayBranch(self):\n",
    "        # accessing private data members\n",
    "        print(\"Branch:\",self.__branch)\n",
    "\n",
    "         # public member function\n",
    "    def access__displayBranch(self):     \n",
    "          # accessing private member function\n",
    "        self.__displayBranch()\n",
    "\n",
    "class D(C):\n",
    "    def __init__(self,name, roll, branch):\n",
    "        super().__init__(name,roll, branch)\n",
    "      # public member function\n",
    "    def access_displayRoll(self):            \n",
    "         # accessing protected member functions of super class\n",
    "        self._displayRoll()\n",
    "\n",
    "# creating objects of the derived class    \n",
    "obj = D(\"Sushma\", 8, \"CSE\")\n",
    "# calling public member functions of the class  \n",
    "obj.dsiplayName()\n",
    "obj.access_displayRoll()\n",
    "obj.access__displayBranch()      "
   ]
  }
 ],
 "metadata": {
  "kernelspec": {
   "display_name": "Python 3.6.1 64-bit",
   "language": "python",
   "name": "python3"
  },
  "language_info": {
   "codemirror_mode": {
    "name": "ipython",
    "version": 3
   },
   "file_extension": ".py",
   "mimetype": "text/x-python",
   "name": "python",
   "nbconvert_exporter": "python",
   "pygments_lexer": "ipython3",
   "version": "3.6.1"
  },
  "orig_nbformat": 4,
  "vscode": {
   "interpreter": {
    "hash": "2331ce43c7f5a23667004e463cc3f21c36cce818200954c349b5bdb05de3eee1"
   }
  }
 },
 "nbformat": 4,
 "nbformat_minor": 2
}
