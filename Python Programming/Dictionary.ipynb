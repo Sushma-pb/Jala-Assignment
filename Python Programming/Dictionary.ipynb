{
 "cells": [
  {
   "cell_type": "code",
   "execution_count": 1,
   "metadata": {},
   "outputs": [
    {
     "name": "stdout",
     "output_type": "stream",
     "text": [
      "Dictionary with each item as a pair: {1: 'Sushma', 2: 'Kavya', 3: 'Asma', 4: 'Divya', 5: 'Pranavi'}\n"
     ]
    }
   ],
   "source": [
    "#1.) Create a Dictionary with at least 5 key value pairs of the Student ID and Name\n",
    " \n",
    "#Creating dictionary\n",
    "Dict = dict([(1,'Sushma'), (2,'Kavya'), (3,'Asma'), (4,'Divya'), (5,'Pranavi')])\n",
    "print(\"Dictionary with each item as a pair:\",Dict) #printing dictionary\n"
   ]
  },
  {
   "cell_type": "code",
   "execution_count": 2,
   "metadata": {},
   "outputs": [
    {
     "name": "stdout",
     "output_type": "stream",
     "text": [
      "\n",
      " Dictionary with new item added: {1: 'Sushma', 2: 'Kavya', 3: 'Asma', 4: 'Divya', 5: 'Pranavi', 6: 'Shravan'}\n"
     ]
    }
   ],
   "source": [
    "#adding element in dictionary\n",
    "Dict[6] = 'Shravan'\n",
    "print(\"\\n Dictionary with new item added:\",Dict)"
   ]
  },
  {
   "cell_type": "code",
   "execution_count": 3,
   "metadata": {},
   "outputs": [
    {
     "name": "stdout",
     "output_type": "stream",
     "text": [
      "\n",
      " Dictionary with updated values: {1: 'Sushma', 2: 'Kavya', 3: 'Navya', 4: 'Divya', 5: 'Pranavi', 6: 'Shravan'}\n",
      "\n",
      " Accessing one value in Dictionary: Sushma\n"
     ]
    }
   ],
   "source": [
    "#updating values in dictionary\n",
    "Dict[3] = 'Navya'\n",
    "print(\"\\n Dictionary with updated values:\",Dict)\n",
    "\n",
    "print(\"\\n Accessing one value in Dictionary:\",Dict[1]) #Accessing"
   ]
  },
  {
   "cell_type": "code",
   "execution_count": 4,
   "metadata": {},
   "outputs": [
    {
     "name": "stdout",
     "output_type": "stream",
     "text": [
      "\n",
      " Delete a value from a Dictionary: {1: 'Sushma', 2: 'Kavya', 3: 'Navya', 4: 'Divya', 5: 'Pranavi'}\n"
     ]
    }
   ],
   "source": [
    "#deleting value from drictionary\n",
    "del Dict[6]\n",
    "print(\"\\n Delete a value from a Dictionary:\",Dict)"
   ]
  },
  {
   "cell_type": "code",
   "execution_count": 5,
   "metadata": {},
   "outputs": [
    {
     "name": "stdout",
     "output_type": "stream",
     "text": [
      "\n",
      " Nested loop Dictionary: {1: 'Sushma', 2: 'Shravan', 3: {'Age': 21, 'Branch': 'CSE', 'Year': 'Final Year'}}\n",
      "\n",
      " Accessing an element of a Nested Dictionary: Shravan\n"
     ]
    }
   ],
   "source": [
    "#creating a nested dictionary\n",
    "Dict1 = {1: 'Sushma', 2: 'Shravan',\n",
    "3:{'Age' : 21, 'Branch' : 'CSE', 'Year' : 'Final Year'}}\n",
    "print(\"\\n Nested loop Dictionary:\",Dict1)\n",
    "\n",
    "print(\"\\n Accessing an element of a Nested Dictionary:\",Dict1[2])"
   ]
  }
 ],
 "metadata": {
  "kernelspec": {
   "display_name": "Python 3.6.1 64-bit",
   "language": "python",
   "name": "python3"
  },
  "language_info": {
   "codemirror_mode": {
    "name": "ipython",
    "version": 3
   },
   "file_extension": ".py",
   "mimetype": "text/x-python",
   "name": "python",
   "nbconvert_exporter": "python",
   "pygments_lexer": "ipython3",
   "version": "3.6.1"
  },
  "orig_nbformat": 4,
  "vscode": {
   "interpreter": {
    "hash": "2331ce43c7f5a23667004e463cc3f21c36cce818200954c349b5bdb05de3eee1"
   }
  }
 },
 "nbformat": 4,
 "nbformat_minor": 2
}
