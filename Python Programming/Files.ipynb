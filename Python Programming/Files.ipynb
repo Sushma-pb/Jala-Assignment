{
 "cells": [
  {
   "cell_type": "code",
   "execution_count": 2,
   "metadata": {},
   "outputs": [
    {
     "name": "stdout",
     "output_type": "stream",
     "text": [
      "\n",
      "something is better\n"
     ]
    }
   ],
   "source": [
    "#1. Write a program to read text file\n",
    "f = open(\"sample1.txt\", \"r\")\n",
    "data = f.read()\n",
    "print(data)"
   ]
  },
  {
   "cell_type": "code",
   "execution_count": 3,
   "metadata": {},
   "outputs": [
    {
     "name": "stdout",
     "output_type": "stream",
     "text": [
      "how many lines you want to write\n",
      "Enter line\n",
      "\n",
      "1\n"
     ]
    }
   ],
   "source": [
    "#Write a program to write text to .txt file using InputStream\n",
    "print(\"how many lines you want to write\")\n",
    "n=int(input())\n",
    "outFile=open(\"Sample1.txt\",\"w\")\n",
    "for i in range(n):\n",
    "    print(\"Enter line\")\n",
    "    line=input()\n",
    "    outFile.write(\"\\n\"+line)\n",
    "outFile.close()\n",
    "#print(\"the contents of the file \"Sample1.txt\" are \")\n",
    "inFile=open(\"Sample1.txt\",\"rt\")\n",
    "print(inFile.read())\n",
    "inFile.close()"
   ]
  },
  {
   "cell_type": "code",
   "execution_count": 5,
   "metadata": {},
   "outputs": [
    {
     "name": "stdout",
     "output_type": "stream",
     "text": [
      "sun technology :  java, jsp, servlets\n"
     ]
    }
   ],
   "source": [
    "#4. Write a program to read a file stream supports random access\n",
    "import random\n",
    "f5 =(\"Text1.txt\")\n",
    "with open(f5,'r') as f5content:\n",
    "    # Get all the lines of the file using the read(), splitlines() functions and \n",
    "    file_lines = f5content.read().splitlines()\n",
    "    # Print a random line from the given file using the random.choice() function\n",
    "    # by passing the above lines as an argument to it\n",
    "    print(random.choice(file_lines))\n"
   ]
  },
  {
   "cell_type": "code",
   "execution_count": 6,
   "metadata": {},
   "outputs": [
    {
     "name": "stdout",
     "output_type": "stream",
     "text": [
      " technology :  java, jsp, servlets\n",
      "open source javascript : react js, angular js\n"
     ]
    }
   ],
   "source": [
    "#5. Write a program to read a file a just to a particular index using seek()\n",
    "f6 = open('Text1.txt', 'r')\n",
    "f6.seek(3)\n",
    "print(f6.read())  # starts reading from the 3rd character"
   ]
  },
  {
   "cell_type": "code",
   "execution_count": 9,
   "metadata": {},
   "outputs": [
    {
     "data": {
      "text/plain": [
       "True"
      ]
     },
     "execution_count": 9,
     "metadata": {},
     "output_type": "execute_result"
    }
   ],
   "source": [
    "#6. Write a program to check whether a file is having read access and write access permission\n",
    "import os\n",
    "os.access('Text1.txt', os.R_OK) #  to Check for read access"
   ]
  },
  {
   "cell_type": "code",
   "execution_count": 8,
   "metadata": {},
   "outputs": [
    {
     "data": {
      "text/plain": [
       "False"
      ]
     },
     "execution_count": 8,
     "metadata": {},
     "output_type": "execute_result"
    }
   ],
   "source": [
    "os.access('Text.txt', os.W_OK) #  to Check for write access"
   ]
  },
  {
   "cell_type": "code",
   "execution_count": 10,
   "metadata": {},
   "outputs": [
    {
     "data": {
      "text/plain": [
       "False"
      ]
     },
     "execution_count": 10,
     "metadata": {},
     "output_type": "execute_result"
    }
   ],
   "source": [
    "os.access('Text.txt', os.X_OK) # to Check for execution access\n"
   ]
  },
  {
   "cell_type": "code",
   "execution_count": 11,
   "metadata": {},
   "outputs": [
    {
     "data": {
      "text/plain": [
       "False"
      ]
     },
     "execution_count": 11,
     "metadata": {},
     "output_type": "execute_result"
    }
   ],
   "source": [
    "os.access('my_file', os.F_OK) # to Check for existance of file"
   ]
  }
 ],
 "metadata": {
  "kernelspec": {
   "display_name": "Python 3.6.1 64-bit",
   "language": "python",
   "name": "python3"
  },
  "language_info": {
   "codemirror_mode": {
    "name": "ipython",
    "version": 3
   },
   "file_extension": ".py",
   "mimetype": "text/x-python",
   "name": "python",
   "nbconvert_exporter": "python",
   "pygments_lexer": "ipython3",
   "version": "3.6.1"
  },
  "orig_nbformat": 4,
  "vscode": {
   "interpreter": {
    "hash": "2331ce43c7f5a23667004e463cc3f21c36cce818200954c349b5bdb05de3eee1"
   }
  }
 },
 "nbformat": 4,
 "nbformat_minor": 2
}
