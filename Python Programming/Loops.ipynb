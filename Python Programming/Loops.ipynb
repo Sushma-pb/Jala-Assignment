{
 "cells": [
  {
   "cell_type": "code",
   "execution_count": 1,
   "metadata": {},
   "outputs": [
    {
     "name": "stdout",
     "output_type": "stream",
     "text": [
      "Bright IT Career\n",
      "Bright IT Career\n",
      "Bright IT Career\n",
      "Bright IT Career\n",
      "Bright IT Career\n",
      "Bright IT Career\n",
      "Bright IT Career\n",
      "Bright IT Career\n",
      "Bright IT Career\n",
      "Bright IT Career\n"
     ]
    }
   ],
   "source": [
    "#1) program to print “Bright IT Career” ten times using for loop.\n",
    "a = \"Bright IT Career\"\n",
    "#using loop to print \"Bright IT Career\" 10 times\n",
    "for i in range(10):\n",
    "    print(a)\n"
   ]
  },
  {
   "cell_type": "code",
   "execution_count": 2,
   "metadata": {},
   "outputs": [
    {
     "name": "stdout",
     "output_type": "stream",
     "text": [
      "1\n",
      "2\n",
      "3\n",
      "4\n",
      "5\n",
      "6\n",
      "7\n",
      "8\n",
      "9\n",
      "10\n",
      "11\n",
      "12\n",
      "13\n",
      "14\n",
      "15\n",
      "16\n",
      "17\n",
      "18\n",
      "19\n",
      "20\n"
     ]
    }
   ],
   "source": [
    "# Write a program to print 1 to 20 numbers using the while loop.\n",
    "\n",
    "i = 1\n",
    "#using loop to print 1 to 20 numbers\n",
    "while(i<=20):\n",
    "    print(i)\n",
    "    i+= 1 "
   ]
  },
  {
   "cell_type": "code",
   "execution_count": 3,
   "metadata": {},
   "outputs": [
    {
     "name": "stdout",
     "output_type": "stream",
     "text": [
      "False\n",
      "True\n"
     ]
    }
   ],
   "source": [
    "# Program to equal operator and not equal operators.\n",
    "\n",
    "a = 10\n",
    "b = 15\n",
    "print(a ==b) #Equal operator\n",
    "print(a != b) #Not Equal operator"
   ]
  },
  {
   "cell_type": "code",
   "execution_count": 4,
   "metadata": {},
   "outputs": [
    {
     "name": "stdout",
     "output_type": "stream",
     "text": [
      "Even Numbers: \n",
      "2 4 6 8 10 \n",
      "Odd Numbers:\n",
      "1 3 5 7 9 \n"
     ]
    }
   ],
   "source": [
    "# Write a program to print the odd and even numbers.\n",
    "\n",
    "Numbers = [1,2,3,4,5,6,7,8,9,10]\n",
    "print(\"Even Numbers: \")  \n",
    "for i in Numbers:     \n",
    "    if i % 2 == 0:       \n",
    "        print(i, end =\" \")    \n",
    "print(\"\\nOdd Numbers:\")\n",
    "for i in Numbers:\n",
    "    if i % 2 != 0:\n",
    "        print(i, end =\" \")\n",
    "print()"
   ]
  },
  {
   "cell_type": "code",
   "execution_count": 5,
   "metadata": {},
   "outputs": [
    {
     "name": "stdout",
     "output_type": "stream",
     "text": [
      "Largest number is:  800\n"
     ]
    }
   ],
   "source": [
    "# Write a program to print largest number among three numbers.\n",
    "\n",
    "k = 20\n",
    "a = 50\n",
    "s = 800\n",
    "if k >= a and k >= s:\n",
    "    largest = k\n",
    "elif a >= k and a >= s:\n",
    "    largest = a\n",
    "else:\n",
    "    largest = s\n",
    "print(\"Largest number is: \",largest)  "
   ]
  },
  {
   "cell_type": "code",
   "execution_count": 6,
   "metadata": {},
   "outputs": [
    {
     "name": "stdout",
     "output_type": "stream",
     "text": [
      "Even Numbers Between 10 to 20:  30 32 34 36 38 40 42 44 46 48 50 \n"
     ]
    }
   ],
   "source": [
    "# Write a program to print even number between 10 and 20 using while.\n",
    "\n",
    "a = 30\n",
    "b = 50\n",
    "print(\"Even Numbers Between 10 to 20: \",end=\" \")\n",
    "while a <= b:\n",
    "    if(a % 2 == 0):\n",
    "        print(\"{0}\".format(a),end=\" \")\n",
    "    a = a + 1\n",
    "print()"
   ]
  },
  {
   "cell_type": "code",
   "execution_count": 7,
   "metadata": {},
   "outputs": [
    {
     "name": "stdout",
     "output_type": "stream",
     "text": [
      "Print 1 to 10 using the do-while loop statement: 2 3 4 5 6 7 8 9 10 \n"
     ]
    }
   ],
   "source": [
    "# Write a program to print 1 to 10 using the do-while loop statement.\n",
    "\n",
    "a = 2\n",
    "print(\"Print 1 to 10 using the do-while loop statement:\",end=\" \")\n",
    "while True:\n",
    "    print(a,end=\" \")\n",
    "    a = a + 1\n",
    "    if(a > 10):\n",
    "        break \n",
    "print()"
   ]
  },
  {
   "cell_type": "code",
   "execution_count": 8,
   "metadata": {},
   "outputs": [
    {
     "name": "stdout",
     "output_type": "stream",
     "text": [
      "1  is an amstrong number\n"
     ]
    }
   ],
   "source": [
    "# Write a program to find Armstrong number or not.\n",
    "\n",
    "a = int(input('Enter a number to check if its armstrong or not: '))\n",
    "sum = 0\n",
    "temp = 0\n",
    "temp = a\n",
    "while temp > 0:\n",
    "    r = temp % 10\n",
    "    sum += r ** 3\n",
    "    temp //= 10\n",
    "if a == sum:\n",
    "    print(a,\" is an amstrong number\")\n",
    "else:\n",
    "    print(a,\" is not an amstrong number\")"
   ]
  },
  {
   "cell_type": "code",
   "execution_count": 9,
   "metadata": {},
   "outputs": [
    {
     "name": "stdout",
     "output_type": "stream",
     "text": [
      "5 is a prime number\n"
     ]
    }
   ],
   "source": [
    "# Write a program to find the prime or not.\n",
    "\n",
    "number = int(input(\"Enter any number to check prime number or not: \"))\n",
    "\n",
    "# prime number is always greater than 1\n",
    "if number > 1:\n",
    "    for i in range(2, number):\n",
    "        if (number % i) == 0:\n",
    "            print(number, \"is not a prime number\")\n",
    "            break\n",
    "    else:\n",
    "        print(number, \"is a prime number\")\n",
    "\n",
    "# if the entered number is less than or equal to 1\n",
    "# then it is not prime number\n",
    "else:\n",
    "    print(number, \"is not a prime number\")"
   ]
  },
  {
   "cell_type": "code",
   "execution_count": 10,
   "metadata": {},
   "outputs": [
    {
     "name": "stdout",
     "output_type": "stream",
     "text": [
      "The number is a palindrome!\n"
     ]
    }
   ],
   "source": [
    "# Write a program to palindrome or not.\n",
    "\n",
    "n = int(input(\"Enter number to check palindrome or not:\"))\n",
    "temp = n\n",
    "rev = 0\n",
    "while(n > 0):\n",
    "    dig = n % 10\n",
    "    rev = rev * 10 + dig\n",
    "    n = n // 10\n",
    "if(temp == rev):\n",
    "    print(\"The number is a palindrome!\")\n",
    "else:\n",
    "    print(\"The number isn't a palindrome!\") "
   ]
  },
  {
   "cell_type": "code",
   "execution_count": 11,
   "metadata": {},
   "outputs": [
    {
     "name": "stdout",
     "output_type": "stream",
     "text": [
      "9 is Odd \n"
     ]
    }
   ],
   "source": [
    "# Program to check whether a number is EVEN or ODD.\n",
    "\n",
    "a = int(input('Enter Number to check is EVEN or ODD: '))\n",
    "if a % 2 == 0:\n",
    "    print(\"{0} is Even \".format(a))\n",
    "else:\n",
    "    print(\"{0} is Odd \".format(a))  \n"
   ]
  }
 ],
 "metadata": {
  "kernelspec": {
   "display_name": "Python 3.6.1 64-bit",
   "language": "python",
   "name": "python3"
  },
  "language_info": {
   "codemirror_mode": {
    "name": "ipython",
    "version": 3
   },
   "file_extension": ".py",
   "mimetype": "text/x-python",
   "name": "python",
   "nbconvert_exporter": "python",
   "pygments_lexer": "ipython3",
   "version": "3.6.1"
  },
  "orig_nbformat": 4,
  "vscode": {
   "interpreter": {
    "hash": "2331ce43c7f5a23667004e463cc3f21c36cce818200954c349b5bdb05de3eee1"
   }
  }
 },
 "nbformat": 4,
 "nbformat_minor": 2
}
