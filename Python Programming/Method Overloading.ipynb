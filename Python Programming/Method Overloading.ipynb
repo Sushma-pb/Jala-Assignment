{
 "cells": [
  {
   "cell_type": "code",
   "execution_count": 1,
   "metadata": {},
   "outputs": [
    {
     "name": "stdout",
     "output_type": "stream",
     "text": [
      "100\n"
     ]
    }
   ],
   "source": [
    "#1. Write two methods with the same name but different number of parameters of same type and call the methods\n",
    "# Takes two argument and print their product\n",
    "def product(a, b):\n",
    "    p = a * b\n",
    "    print(p)\n",
    "      \n",
    "# Second product method\n",
    "# Takes three argument and print their# product\n",
    "def product(a, b, c):\n",
    "    p = a * b*c\n",
    "    print(p)\n",
    "  \n",
    "# Uncommenting the below line shows an error    \n",
    "# product(4, 5)\n",
    "  \n",
    "# This line will call the second product method\n",
    "product(4, 5, 5)"
   ]
  },
  {
   "cell_type": "code",
   "execution_count": 2,
   "metadata": {},
   "outputs": [
    {
     "name": "stdout",
     "output_type": "stream",
     "text": [
      "3\n"
     ]
    }
   ],
   "source": [
    "#2. Write two methods with the same name but different number of parameters of different data type and call the method\n",
    "class Purchase:\n",
    "    def __init__(self, basket, buyer):\n",
    "        self.basket = list(basket)\n",
    "        self.buyer = buyer\n",
    "\n",
    "    def __len__(self):\n",
    "        return len(self.basket)\n",
    "\n",
    "purchase = Purchase(['pen', 'book', 'pencil'], 'Python')\n",
    "print(len(purchase))\n",
    "#print(purchase)"
   ]
  },
  {
   "cell_type": "code",
   "execution_count": 3,
   "metadata": {},
   "outputs": [],
   "source": [
    "#3. Write two methods with the same name and same number of parameters of same type\n",
    "class QueueCards:\n",
    "    def __init__(self):\n",
    "        self.cards = []\n",
    "\n",
    "    def Add(self, other):\n",
    "        self.cards.insert(0, other)\n",
    "\n",
    "    def Add(self, listCards, numCards):\n",
    "        for i in numCards:\n",
    "            card = listCards.GetCard(i)\n",
    "            self.Add(card)"
   ]
  }
 ],
 "metadata": {
  "kernelspec": {
   "display_name": "Python 3.6.1 64-bit",
   "language": "python",
   "name": "python3"
  },
  "language_info": {
   "codemirror_mode": {
    "name": "ipython",
    "version": 3
   },
   "file_extension": ".py",
   "mimetype": "text/x-python",
   "name": "python",
   "nbconvert_exporter": "python",
   "pygments_lexer": "ipython3",
   "version": "3.6.1"
  },
  "orig_nbformat": 4,
  "vscode": {
   "interpreter": {
    "hash": "2331ce43c7f5a23667004e463cc3f21c36cce818200954c349b5bdb05de3eee1"
   }
  }
 },
 "nbformat": 4,
 "nbformat_minor": 2
}
