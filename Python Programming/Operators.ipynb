{
 "cells": [
  {
   "cell_type": "code",
   "execution_count": 1,
   "metadata": {},
   "outputs": [
    {
     "name": "stdout",
     "output_type": "stream",
     "text": [
      "The sum of 2 and 7 is 9.0\n",
      "The subtraction of 2 and 7 is -5.0\n",
      "The multiplication of 2 and 7 is 14.0\n",
      "The division of 2 and 7 is 0.2857142857142857\n"
     ]
    }
   ],
   "source": [
    "# Write a function for arithmetic operators(+,-,*,/)\n",
    "\n",
    "# Store input numbers:  \n",
    "num1 = input('Enter first number: ')  \n",
    "num2 = input('Enter second number: ')  \n",
    "  \n",
    "# Add two numbers  \n",
    "sum = float(num1) + float(num2)  \n",
    "# Subtract two numbers  \n",
    "min = float(num1) - float(num2)  \n",
    "# Multiply two numbers  \n",
    "mul = float(num1) * float(num2)  \n",
    "#Divide two numbers  \n",
    "div = float(num1) / float(num2)  \n",
    "# Display the sum  \n",
    "print('The sum of {0} and {1} is {2}'.format(num1, num2, sum))  \n",
    "# Display the subtraction  \n",
    "print('The subtraction of {0} and {1} is {2}'.format(num1, num2, min))  \n",
    "# Display the multiplication  \n",
    "print('The multiplication of {0} and {1} is {2}'.format(num1, num2, mul))  \n",
    "# Display the division  \n",
    "print('The division of {0} and {1} is {2}'.format(num1, num2, div))  \n"
   ]
  },
  {
   "cell_type": "code",
   "execution_count": 2,
   "metadata": {},
   "outputs": [
    {
     "name": "stdout",
     "output_type": "stream",
     "text": [
      "The value of a is  2\n",
      "INCREMENTED FOR LOOP\n",
      "0\n",
      "1\n",
      "2\n",
      "3\n",
      "4\n",
      "\n",
      "DECREMENTED FOR LOOP\n",
      "4\n",
      "3\n",
      "2\n",
      "1\n",
      "0\n"
     ]
    }
   ],
   "source": [
    "# Write a method for increment and decrement operators(++, --)\n",
    "\n",
    "# A sample use of increasing the variable value by one.\n",
    "a = 0\n",
    "a += 1\n",
    "a = a+1\n",
    "print('The value of a is ',a)\n",
    "# Use of increment operator, here start = 1,step = 1(by default) and stop = 5 \n",
    "print(\"INCREMENTED FOR LOOP\")\n",
    "for i in range(0, 5):\n",
    "   print(i)\n",
    "#Use of decrement operator, here start = 5, step = -1 and  stop = -1\n",
    "print(\"\\nDECREMENTED FOR LOOP\")\n",
    "for i in range(4, -1, -1):\n",
    "   print(i)"
   ]
  },
  {
   "cell_type": "code",
   "execution_count": 3,
   "metadata": {},
   "outputs": [
    {
     "name": "stdout",
     "output_type": "stream",
     "text": [
      "Both numbers are not equal\n"
     ]
    }
   ],
   "source": [
    "# Write a program to find the two numbers equal or not.\n",
    "\n",
    "a = input('Enter first number: ')\n",
    "b = input('Enter second number: ')\n",
    "if a==b:\n",
    "    print(\"Both numbers are equal\")\n",
    "else:\n",
    "    print(\"Both numbers are not equal\")"
   ]
  },
  {
   "cell_type": "code",
   "execution_count": 4,
   "metadata": {},
   "outputs": [
    {
     "name": "stdout",
     "output_type": "stream",
     "text": [
      "True\n",
      "True\n",
      "False\n",
      "False\n",
      "False\n",
      "True\n"
     ]
    }
   ],
   "source": [
    "# Program for relational operators (<,<==, >, >==)\n",
    "\n",
    "a = 10\n",
    "b = 15\n",
    "print(a < b)  #This operator(<) returns True if the left operand is less than the right operand.\n",
    "print(a <= b) #This operator(<=)returns True if the left operand is less than or equal to the right operand.\n",
    "print(a > b)  #This operator(>) returns True if the left operand is greater than the right operand.\n",
    "print(a >= b) #This operator(>=)returns True if the left operand is greater than or equal to the right operand.   \n",
    "print(a == b) #This operator(==)returns True if both the operands are equal i.e. if both the left and the right operand are equal to each other.\n",
    "print(a != b) #This operator(!=)returns True if both the operands are not equal.\n"
   ]
  },
  {
   "cell_type": "code",
   "execution_count": 5,
   "metadata": {},
   "outputs": [
    {
     "ename": "ValueError",
     "evalue": "could not convert string to float: ",
     "output_type": "error",
     "traceback": [
      "\u001b[1;31m---------------------------------------------------------------------------\u001b[0m",
      "\u001b[1;31mValueError\u001b[0m                                Traceback (most recent call last)",
      "\u001b[1;32m<ipython-input-5-05cd3365b370>\u001b[0m in \u001b[0;36m<module>\u001b[1;34m()\u001b[0m\n\u001b[0;32m      1\u001b[0m \u001b[1;31m# Print the smaller and larger number.\u001b[0m\u001b[1;33m\u001b[0m\u001b[1;33m\u001b[0m\u001b[0m\n\u001b[0;32m      2\u001b[0m \u001b[1;33m\u001b[0m\u001b[0m\n\u001b[1;32m----> 3\u001b[1;33m \u001b[0ma\u001b[0m \u001b[1;33m=\u001b[0m \u001b[0mfloat\u001b[0m\u001b[1;33m(\u001b[0m\u001b[0minput\u001b[0m\u001b[1;33m(\u001b[0m\u001b[1;34m'Enter first number: '\u001b[0m\u001b[1;33m)\u001b[0m\u001b[1;33m)\u001b[0m\u001b[1;33m\u001b[0m\u001b[0m\n\u001b[0m\u001b[0;32m      4\u001b[0m \u001b[0mb\u001b[0m \u001b[1;33m=\u001b[0m \u001b[0mfloat\u001b[0m\u001b[1;33m(\u001b[0m\u001b[0minput\u001b[0m\u001b[1;33m(\u001b[0m\u001b[1;34m'Enter second number: '\u001b[0m\u001b[1;33m)\u001b[0m\u001b[1;33m)\u001b[0m\u001b[1;33m\u001b[0m\u001b[0m\n\u001b[0;32m      5\u001b[0m \u001b[1;31m#To print larger number\u001b[0m\u001b[1;33m\u001b[0m\u001b[1;33m\u001b[0m\u001b[0m\n",
      "\u001b[1;31mValueError\u001b[0m: could not convert string to float: "
     ]
    }
   ],
   "source": [
    "# Print the smaller and larger number.\n",
    "\n",
    "a = float(input('Enter first number: '))\n",
    "b = float(input('Enter second number: '))\n",
    "#To print larger number\n",
    "if a > b: \n",
    "     print(a, \"is greater \")\n",
    "else:\n",
    "    print(b, \" is greater \")\n",
    "#To print samller number\n",
    "if a < b:\n",
    "     print(a, \"is smaller2 \")\n",
    "else:\n",
    "    print(b, \" is smaller \")         "
   ]
  },
  {
   "cell_type": "code",
   "execution_count": null,
   "metadata": {},
   "outputs": [],
   "source": []
  }
 ],
 "metadata": {
  "kernelspec": {
   "display_name": "Python 3.6.1 64-bit",
   "language": "python",
   "name": "python3"
  },
  "language_info": {
   "codemirror_mode": {
    "name": "ipython",
    "version": 3
   },
   "file_extension": ".py",
   "mimetype": "text/x-python",
   "name": "python",
   "nbconvert_exporter": "python",
   "pygments_lexer": "ipython3",
   "version": "3.6.1"
  },
  "orig_nbformat": 4,
  "vscode": {
   "interpreter": {
    "hash": "2331ce43c7f5a23667004e463cc3f21c36cce818200954c349b5bdb05de3eee1"
   }
  }
 },
 "nbformat": 4,
 "nbformat_minor": 2
}
