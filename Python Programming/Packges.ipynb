{
 "cells": [
  {
   "cell_type": "code",
   "execution_count": 1,
   "metadata": {},
   "outputs": [
    {
     "data": {
      "text/plain": [
       "[0, 1]"
      ]
     },
     "execution_count": 1,
     "metadata": {},
     "output_type": "execute_result"
    }
   ],
   "source": [
    "#1. Create a program to create two class.1.1. Create a constructor and a method for each class1.2. Create a __init__.py for adding all packages1.3. Import the respective packages1.4. Call each class by creating an object to it\n",
    "class A():\n",
    "    def __init__(self):\n",
    "        self.x = 0\n",
    "\n",
    "a = A()\n",
    "        \n",
    "class B():\n",
    "    def __init__(self):\n",
    "        self.x = 1\n",
    "\n",
    "b = B()\n",
    "class Container():\n",
    "    def __init__(self, objects):\n",
    "        self.x = [obj.x for obj in objects]\n",
    "        \n",
    "c = Container([a,b])\n",
    "c.x"
   ]
  }
 ],
 "metadata": {
  "kernelspec": {
   "display_name": "Python 3.6.1 64-bit",
   "language": "python",
   "name": "python3"
  },
  "language_info": {
   "codemirror_mode": {
    "name": "ipython",
    "version": 3
   },
   "file_extension": ".py",
   "mimetype": "text/x-python",
   "name": "python",
   "nbconvert_exporter": "python",
   "pygments_lexer": "ipython3",
   "version": "3.6.1"
  },
  "orig_nbformat": 4,
  "vscode": {
   "interpreter": {
    "hash": "2331ce43c7f5a23667004e463cc3f21c36cce818200954c349b5bdb05de3eee1"
   }
  }
 },
 "nbformat": 4,
 "nbformat_minor": 2
}
