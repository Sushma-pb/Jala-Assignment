{
 "cells": [
  {
   "cell_type": "code",
   "execution_count": 1,
   "metadata": {},
   "outputs": [
    {
     "name": "stdout",
     "output_type": "stream",
     "text": [
      "Hello\n",
      "GoodMorning\n"
     ]
    }
   ],
   "source": [
    "#1. Different ways creating a string\n",
    "msg='Hello' #single quote\n",
    "print(msg)\n",
    "\n",
    "msg1= \"GoodMorning\"#double quote\n",
    "print(msg1)"
   ]
  },
  {
   "cell_type": "code",
   "execution_count": 2,
   "metadata": {},
   "outputs": [
    {
     "name": "stdout",
     "output_type": "stream",
     "text": [
      "String 1: Hello\n",
      "String 2: World\n",
      "Concatenated two different strings: HelloWorld\n"
     ]
    }
   ],
   "source": [
    "#2. Concatenating two strings using + operator\n",
    "str1=\"Hello\"\n",
    "str2=\"World\"\n",
    "print (\"String 1:\",str1)\n",
    "print (\"String 2:\",str2)\n",
    "str=str1+str2      # using + oprtor\n",
    "print(\"Concatenated two different strings:\",str)"
   ]
  },
  {
   "cell_type": "code",
   "execution_count": 4,
   "metadata": {},
   "outputs": [
    {
     "name": "stdout",
     "output_type": "stream",
     "text": [
      "length of the string: 5\n",
      "\n"
     ]
    }
   ],
   "source": [
    "# Finding the length of the string.\n",
    "print(\"length of the string:\",len(str1))\n",
    "print()"
   ]
  },
  {
   "cell_type": "code",
   "execution_count": 9,
   "metadata": {},
   "outputs": [
    {
     "name": "stdout",
     "output_type": "stream",
     "text": [
      "Position of ish: 1\n",
      "Position of h: 3\n",
      "\n"
     ]
    }
   ],
   "source": [
    "# Extract a string using Substring.\n",
    "\n",
    "# Searching in strings using index()\n",
    "str3 = 'sushsh'\n",
    "str1 = 'ush'\n",
    "str2 = 'h'\n",
    "print(\"Position of ish:\",str3.index(str1))\n",
    "print(\"Position of h:\",str3.index(str2))\n",
    "print()"
   ]
  },
  {
   "cell_type": "code",
   "execution_count": 10,
   "metadata": {},
   "outputs": [
    {
     "name": "stdout",
     "output_type": "stream",
     "text": [
      "<_sre.SRE_Match object; span=(0, 7), match='Manisha'>\n",
      "\n"
     ]
    }
   ],
   "source": [
    "# Matching a String Against a Regular Expression With matches().\n",
    "from ast import Str\n",
    "import re\n",
    "Substr = 'Manisha'\n",
    "str6 = 'Manisha once said- Wake up to relity nothing goes as planned in this cursed world'\n",
    "print(re.match(Substr,str6))\n",
    "print()"
   ]
  },
  {
   "cell_type": "code",
   "execution_count": 11,
   "metadata": {},
   "outputs": [
    {
     "name": "stdout",
     "output_type": "stream",
     "text": [
      "False\n",
      "True\n",
      "False\n",
      "True\n",
      "\n"
     ]
    }
   ],
   "source": [
    "# Comparing strings.\n",
    "str8 = 'Itachi uchiha'\n",
    "str1 = 'Madara uchiha'\n",
    "str2 = str8\n",
    "print(str8 == str1)\n",
    "print(str8 == str2)\n",
    "print(str1 == str2)\n",
    "print(str8 != str1)\n",
    "print()"
   ]
  },
  {
   "cell_type": "code",
   "execution_count": 12,
   "metadata": {},
   "outputs": [
    {
     "name": "stdout",
     "output_type": "stream",
     "text": [
      "True\n",
      "True\n",
      "\n"
     ]
    }
   ],
   "source": [
    "# startsWith(), endsWith().\n",
    "string = 'Sushma Badiger'\n",
    "print(string.startswith(\"Sushma\"))\n",
    "print(string.endswith(\"iger\"))\n",
    "print()"
   ]
  },
  {
   "cell_type": "code",
   "execution_count": 13,
   "metadata": {},
   "outputs": [
    {
     "name": "stdout",
     "output_type": "stream",
     "text": [
      "Hello World \n",
      "\n"
     ]
    }
   ],
   "source": [
    "# Trimming strings with strip().\n",
    "str7 = 'Hello World hi'\n",
    "print(str7.strip(\"hi\"))\n",
    "print()"
   ]
  },
  {
   "cell_type": "code",
   "execution_count": 14,
   "metadata": {},
   "outputs": [
    {
     "name": "stdout",
     "output_type": "stream",
     "text": [
      "Hello World\n",
      "\n"
     ]
    }
   ],
   "source": [
    "# Replacing characters in strings with replace()\n",
    "string = 'Hi World'\n",
    "print(string.replace(\"Hi\",\"Hello\"))\n",
    "print()"
   ]
  },
  {
   "cell_type": "code",
   "execution_count": 15,
   "metadata": {},
   "outputs": [
    {
     "name": "stdout",
     "output_type": "stream",
     "text": [
      "['hi', 'hello', 'bye']\n",
      "\n"
     ]
    }
   ],
   "source": [
    "# Splitting strings with split()\n",
    "str9 = 'hi-hello-bye'\n",
    "print(str9.split(\"-\"))\n",
    "print()"
   ]
  },
  {
   "cell_type": "code",
   "execution_count": 20,
   "metadata": {},
   "outputs": [
    {
     "ename": "TypeError",
     "evalue": "'str' object is not callable",
     "output_type": "error",
     "traceback": [
      "\u001b[1;31m---------------------------------------------------------------------------\u001b[0m",
      "\u001b[1;31mTypeError\u001b[0m                                 Traceback (most recent call last)",
      "\u001b[1;32m<ipython-input-20-b17766d5cb5e>\u001b[0m in \u001b[0;36m<module>\u001b[1;34m()\u001b[0m\n\u001b[0;32m      1\u001b[0m \u001b[1;31m# Converting integer objects to Strings.\u001b[0m\u001b[1;33m\u001b[0m\u001b[1;33m\u001b[0m\u001b[0m\n\u001b[0;32m      2\u001b[0m \u001b[0mnumber3\u001b[0m \u001b[1;33m=\u001b[0m \u001b[1;36m1\u001b[0m\u001b[1;33m\u001b[0m\u001b[0m\n\u001b[1;32m----> 3\u001b[1;33m \u001b[0mconvert_to_string\u001b[0m \u001b[1;33m=\u001b[0m \u001b[0mstr\u001b[0m\u001b[1;33m(\u001b[0m\u001b[1;36m1\u001b[0m\u001b[1;33m)\u001b[0m\u001b[1;33m\u001b[0m\u001b[0m\n\u001b[0m\u001b[0;32m      4\u001b[0m \u001b[0mprint\u001b[0m\u001b[1;33m(\u001b[0m \u001b[0mtype\u001b[0m\u001b[1;33m(\u001b[0m\u001b[0mconvert_to_string\u001b[0m\u001b[1;33m)\u001b[0m\u001b[1;33m)\u001b[0m\u001b[1;33m\u001b[0m\u001b[0m\n",
      "\u001b[1;31mTypeError\u001b[0m: 'str' object is not callable"
     ]
    }
   ],
   "source": [
    "# Converting integer objects to Strings.\n",
    "number3 = 1\n",
    "convert_to_string = str(1)\n",
    "print( type(convert_to_string))\n"
   ]
  },
  {
   "cell_type": "code",
   "execution_count": 21,
   "metadata": {},
   "outputs": [
    {
     "name": "stdout",
     "output_type": "stream",
     "text": [
      "HELLO\n",
      "world\n"
     ]
    }
   ],
   "source": [
    "# Converting to uppercase and lowercase.\n",
    "string = 'hello'\n",
    "string1 = 'WORLD'\n",
    "print(string.upper())\n",
    "print(string1.lower())"
   ]
  }
 ],
 "metadata": {
  "kernelspec": {
   "display_name": "Python 3.6.1 64-bit",
   "language": "python",
   "name": "python3"
  },
  "language_info": {
   "codemirror_mode": {
    "name": "ipython",
    "version": 3
   },
   "file_extension": ".py",
   "mimetype": "text/x-python",
   "name": "python",
   "nbconvert_exporter": "python",
   "pygments_lexer": "ipython3",
   "version": "3.6.1"
  },
  "orig_nbformat": 4,
  "vscode": {
   "interpreter": {
    "hash": "2331ce43c7f5a23667004e463cc3f21c36cce818200954c349b5bdb05de3eee1"
   }
  }
 },
 "nbformat": 4,
 "nbformat_minor": 2
}
