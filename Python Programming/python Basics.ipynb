{
 "cells": [
  {
   "cell_type": "code",
   "execution_count": 1,
   "metadata": {},
   "outputs": [],
   "source": [
    "import pandas as pd"
   ]
  },
  {
   "cell_type": "code",
   "execution_count": 2,
   "metadata": {},
   "outputs": [
    {
     "name": "stdout",
     "output_type": "stream",
     "text": [
      "Sushma\n"
     ]
    }
   ],
   "source": [
    "#Program to Print name\n",
    "print (\"Sushma\")"
   ]
  },
  {
   "cell_type": "code",
   "execution_count": 3,
   "metadata": {},
   "outputs": [
    {
     "name": "stdout",
     "output_type": "stream",
     "text": [
      "Single-line commenting\n",
      "Multi-line commenting\n"
     ]
    }
   ],
   "source": [
    "# program for a Single line comment and multi-line comments.\n",
    "\n",
    "# Print Helloword to console\n",
    "print(\"Single-line commenting\")\n",
    "\n",
    "\n",
    "# this is\n",
    "# extends\n",
    "#Multiple lines\n",
    "print(\"Multi-line commenting\")"
   ]
  },
  {
   "cell_type": "code",
   "execution_count": 4,
   "metadata": {},
   "outputs": [
    {
     "data": {
      "text/plain": [
       "int"
      ]
     },
     "execution_count": 4,
     "metadata": {},
     "output_type": "execute_result"
    }
   ],
   "source": [
    "#3 Defining variables for different Data Types int, Boolean, char, float, double and print on the Console.\n",
    "type(10)"
   ]
  },
  {
   "cell_type": "code",
   "execution_count": 5,
   "metadata": {},
   "outputs": [
    {
     "name": "stdout",
     "output_type": "stream",
     "text": [
      "Type of a:  <class 'int'>\n",
      "Type of b:  <class 'bool'>\n",
      "Type of c:  <class 'float'>\n",
      "Type of String:  <class 'str'>\n"
     ]
    }
   ],
   "source": [
    "a = -5\n",
    "print(\"Type of a: \", type(a))\n",
    "b = False\n",
    "print(\"Type of b: \", type(b))\n",
    "c = 5.0\n",
    "print(\"Type of c: \", type(c))\n",
    "String = 'Hello'\n",
    "print(\"Type of String: \", type(String))"
   ]
  },
  {
   "cell_type": "code",
   "execution_count": 6,
   "metadata": {},
   "outputs": [
    {
     "name": "stdout",
     "output_type": "stream",
     "text": [
      "global :  5\n",
      "Inside f() :  5\n",
      "global :  5\n",
      "Inside g() :  2\n",
      "global :  5\n",
      "Inside h() :  4\n",
      "global :  4\n"
     ]
    }
   ],
   "source": [
    "# Define the local and Global variables with the same name and print both variables and understand the scope of the variables.\n",
    "\n",
    "a = 5\n",
    "# Uses global because there is no local 'a'\n",
    "def f():\n",
    "    print('Inside f() : ', a)\n",
    "# Variable 'a' is redefined as a local\n",
    "def g():\n",
    "    a = 2\n",
    "    print('Inside g() : ', a) \n",
    "# Uses global keyword to modify global 'a'\n",
    "def h():\n",
    "    global a\n",
    "    a = 4      #Value of 'a' modified\n",
    "    print('Inside h() : ', a)  \n",
    "# Global scope\n",
    "print('global : ', a)\n",
    "f()\n",
    "print('global : ', a)\n",
    "g()\n",
    "print('global : ', a)\n",
    "h()\n",
    "print('global : ', a)"
   ]
  }
 ],
 "metadata": {
  "kernelspec": {
   "display_name": "Python 3.6.1 64-bit",
   "language": "python",
   "name": "python3"
  },
  "language_info": {
   "codemirror_mode": {
    "name": "ipython",
    "version": 3
   },
   "file_extension": ".py",
   "mimetype": "text/x-python",
   "name": "python",
   "nbconvert_exporter": "python",
   "pygments_lexer": "ipython3",
   "version": "3.6.1"
  },
  "orig_nbformat": 4,
  "vscode": {
   "interpreter": {
    "hash": "2331ce43c7f5a23667004e463cc3f21c36cce818200954c349b5bdb05de3eee1"
   }
  }
 },
 "nbformat": 4,
 "nbformat_minor": 2
}
